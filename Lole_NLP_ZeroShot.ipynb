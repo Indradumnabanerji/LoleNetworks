{
 "cells": [
  {
   "cell_type": "code",
   "execution_count": 138,
   "id": "5c58bdb2",
   "metadata": {},
   "outputs": [
    {
     "name": "stdout",
     "output_type": "stream",
     "text": [
      "huggingface/tokenizers: The current process just got forked, after parallelism has already been used. Disabling parallelism to avoid deadlocks...\n",
      "To disable this warning, you can either:\n",
      "\t- Avoid using `tokenizers` before the fork if possible\n",
      "\t- Explicitly set the environment variable TOKENIZERS_PARALLELISM=(true | false)\n",
      "\u001b[33mDEPRECATION: Configuring installation scheme with distutils config files is deprecated and will no longer work in the near future. If you are using a Homebrew or Linuxbrew Python, please see discussion at https://github.com/Homebrew/homebrew-core/issues/76621\u001b[0m\u001b[33m\n",
      "\u001b[0mRequirement already satisfied: transformers in /opt/homebrew/lib/python3.9/site-packages (4.23.1)\n",
      "Requirement already satisfied: filelock in /opt/homebrew/lib/python3.9/site-packages (from transformers) (3.8.0)\n",
      "Requirement already satisfied: packaging>=20.0 in /opt/homebrew/lib/python3.9/site-packages (from transformers) (21.3)\n",
      "Requirement already satisfied: tqdm>=4.27 in /opt/homebrew/lib/python3.9/site-packages (from transformers) (4.64.0)\n",
      "Requirement already satisfied: pyyaml>=5.1 in /opt/homebrew/lib/python3.9/site-packages (from transformers) (6.0)\n",
      "Requirement already satisfied: huggingface-hub<1.0,>=0.10.0 in /opt/homebrew/lib/python3.9/site-packages (from transformers) (0.10.1)\n",
      "Requirement already satisfied: numpy>=1.17 in /opt/homebrew/lib/python3.9/site-packages (from transformers) (1.22.4)\n",
      "Requirement already satisfied: regex!=2019.12.17 in /opt/homebrew/lib/python3.9/site-packages (from transformers) (2022.9.13)\n",
      "Requirement already satisfied: requests in /opt/homebrew/lib/python3.9/site-packages (from transformers) (2.28.0)\n",
      "Requirement already satisfied: tokenizers!=0.11.3,<0.14,>=0.11.1 in /opt/homebrew/lib/python3.9/site-packages (from transformers) (0.13.1)\n",
      "Requirement already satisfied: typing-extensions>=3.7.4.3 in /opt/homebrew/lib/python3.9/site-packages (from huggingface-hub<1.0,>=0.10.0->transformers) (4.2.0)\n",
      "Requirement already satisfied: pyparsing!=3.0.5,>=2.0.2 in /opt/homebrew/lib/python3.9/site-packages (from packaging>=20.0->transformers) (3.0.9)\n",
      "Requirement already satisfied: urllib3<1.27,>=1.21.1 in /opt/homebrew/lib/python3.9/site-packages (from requests->transformers) (1.26.12)\n",
      "Requirement already satisfied: idna<4,>=2.5 in /opt/homebrew/lib/python3.9/site-packages (from requests->transformers) (3.3)\n",
      "Requirement already satisfied: charset-normalizer~=2.0.0 in /opt/homebrew/lib/python3.9/site-packages (from requests->transformers) (2.0.12)\n",
      "Requirement already satisfied: certifi>=2017.4.17 in /opt/homebrew/lib/python3.9/site-packages (from requests->transformers) (2022.6.15)\n",
      "\u001b[33mDEPRECATION: Configuring installation scheme with distutils config files is deprecated and will no longer work in the near future. If you are using a Homebrew or Linuxbrew Python, please see discussion at https://github.com/Homebrew/homebrew-core/issues/76621\u001b[0m\u001b[33m\n",
      "\u001b[0m"
     ]
    }
   ],
   "source": [
    "# Transformers installation\n",
    "!pip install transformers\n",
    "import pylab\n",
    "import numpy as np\n",
    "import matplotlib.pyplot as plt\n",
    "from transformers import pipeline\n",
    "from pylab import rcParams"
   ]
  },
  {
   "cell_type": "code",
   "execution_count": 140,
   "id": "8e4cd4cb",
   "metadata": {},
   "outputs": [
    {
     "name": "stderr",
     "output_type": "stream",
     "text": [
      "No model was supplied, defaulted to distilbert-base-uncased-finetuned-sst-2-english and revision af0f99b (https://huggingface.co/distilbert-base-uncased-finetuned-sst-2-english).\n",
      "Using a pipeline without specifying a model name and revision in production is not recommended.\n"
     ]
    },
    {
     "name": "stdout",
     "output_type": "stream",
     "text": [
      "label: NEGATIVE, with score: 0.9991\n"
     ]
    }
   ],
   "source": [
    "from transformers import pipeline\n",
    "\n",
    "classifier = pipeline(\"sentiment-analysis\")\n",
    "\n",
    "result = classifier(\"I hate you\")[0]\n",
    "print(f\"label: {result['label']}, with score: {round(result['score'], 4)}\")"
   ]
  },
  {
   "cell_type": "code",
   "execution_count": 38,
   "id": "83b025cc",
   "metadata": {},
   "outputs": [],
   "source": [
    "rcParams['figure.figsize'] = 10, 5\n",
    "zero_shot_classifier1 = pipeline(\"zero-shot-classification\",\n",
    "                      model=\"facebook/bart-large-mnli\")\n",
    "result1 = zero_shot_classifier(\n",
    "  sequences = \"what are the visualisation capabilities of your platform? How can we make it better?\", \n",
    "  candidate_labels = [\"customer data platform\", \"analytics\"],\n",
    "  multi_label= True\n",
    ")"
   ]
  },
  {
   "cell_type": "code",
   "execution_count": 39,
   "id": "ac0582b3",
   "metadata": {},
   "outputs": [
    {
     "name": "stderr",
     "output_type": "stream",
     "text": [
      "Some weights of the model checkpoint at roberta-large-mnli were not used when initializing RobertaForSequenceClassification: ['roberta.pooler.dense.bias', 'roberta.pooler.dense.weight']\n",
      "- This IS expected if you are initializing RobertaForSequenceClassification from the checkpoint of a model trained on another task or with another architecture (e.g. initializing a BertForSequenceClassification model from a BertForPreTraining model).\n",
      "- This IS NOT expected if you are initializing RobertaForSequenceClassification from the checkpoint of a model that you expect to be exactly identical (initializing a BertForSequenceClassification model from a BertForSequenceClassification model).\n"
     ]
    }
   ],
   "source": [
    "zero_shot_classifier2 = pipeline(\"zero-shot-classification\",\n",
    "                      model=\"roberta-large-mnli\")\n",
    "result2 = zero_shot_classifier2(\n",
    "  sequences = \"what are the visualisation capabilities of your platform? How can we make it better?\", \n",
    "  candidate_labels = [\"customer data platform\", \"analytics\"],\n",
    "  multi_label= True\n",
    ")\n",
    "\n"
   ]
  },
  {
   "cell_type": "code",
   "execution_count": 95,
   "id": "38add8f1",
   "metadata": {},
   "outputs": [
    {
     "data": {
      "text/plain": [
       "(0.6136216390216149, 0.38637836097838507)"
      ]
     },
     "execution_count": 95,
     "metadata": {},
     "output_type": "execute_result"
    }
   ],
   "source": [
    "a1x,b1x = result1[\"scores\"]\n",
    "a1 = a1x/(a1x+b1x)\n",
    "b1 = b1x/(a1x+b1x)\n",
    "a1,b1"
   ]
  },
  {
   "cell_type": "code",
   "execution_count": 111,
   "id": "ff32bea6",
   "metadata": {},
   "outputs": [
    {
     "data": {
      "text/plain": [
       "(0.6269099399982481, 0.37309006000175193)"
      ]
     },
     "execution_count": 111,
     "metadata": {},
     "output_type": "execute_result"
    }
   ],
   "source": [
    "a2x,b2x = result2[\"scores\"]\n",
    "a2 = a2x/(a2x+b2x)\n",
    "b2 = b2x/(a2x+b2x)\n",
    "a2,b2\n"
   ]
  },
  {
   "cell_type": "code",
   "execution_count": 112,
   "id": "9b90981e",
   "metadata": {},
   "outputs": [
    {
     "data": {
      "image/png": "[encoded data removed]",
      "text/plain": [
       "<Figure size 720x360 with 1 Axes>"
      ]
     },
     "metadata": {
      "needs_background": "light"
     },
     "output_type": "display_data"
    }
   ],
   "source": [
    "plt.bar(result1[\"labels\"], [a1,b1])\n",
    "plt.yticks(list(np.arange(0, 1, 0.1)))\n",
    "plt.show()"
   ]
  },
  {
   "cell_type": "code",
   "execution_count": 113,
   "id": "8ed6c724",
   "metadata": {},
   "outputs": [
    {
     "data": {
      "image/png": "[encoded data removed]",
      "text/plain": [
       "<Figure size 720x360 with 1 Axes>"
      ]
     },
     "metadata": {
      "needs_background": "light"
     },
     "output_type": "display_data"
    }
   ],
   "source": [
    "plt.bar(result2[\"labels\"], [a2,b2])\n",
    "plt.yticks(list(np.arange(0, 1, 0.1)))\n",
    "plt.show()"
   ]
  },
  {
   "cell_type": "code",
   "execution_count": 114,
   "id": "cc9b0b9c",
   "metadata": {},
   "outputs": [
    {
     "data": {
      "text/plain": [
       "(0.7274145657637773, 0.27258543423622267)"
      ]
     },
     "execution_count": 114,
     "metadata": {},
     "output_type": "execute_result"
    }
   ],
   "source": [
    "and_boosted_a=a1*a2/(a1*a2+b1*b2)\n",
    "and_boosted_b=b1*b2/(a1*a2+b1*b2)\n",
    "and_boosted_a,and_boosted_b\n"
   ]
  },
  {
   "cell_type": "code",
   "execution_count": 115,
   "id": "0b9c8ab6",
   "metadata": {},
   "outputs": [
    {
     "data": {
      "image/png": "[encoded data removed]",
      "text/plain": [
       "<Figure size 720x360 with 1 Axes>"
      ]
     },
     "metadata": {
      "needs_background": "light"
     },
     "output_type": "display_data"
    }
   ],
   "source": [
    "plt.bar(result1[\"labels\"], (and_boosted_a,and_boosted_b))\n",
    "plt.yticks(list(np.arange(0, 1, 0.1)))\n",
    "plt.show()"
   ]
  },
  {
   "cell_type": "code",
   "execution_count": 116,
   "id": "f0f4f9d3",
   "metadata": {},
   "outputs": [],
   "source": [
    "#find ways to draw logic gates on python"
   ]
  },
  {
   "cell_type": "code",
   "execution_count": 119,
   "id": "0fdf334f",
   "metadata": {},
   "outputs": [
    {
     "data": {
      "text/plain": [
       "(0.6202657895099315, 0.3797342104900685)"
      ]
     },
     "execution_count": 119,
     "metadata": {},
     "output_type": "execute_result"
    }
   ],
   "source": [
    "or_boosted_a=(a1+a2)/2\n",
    "or_boosted_b=(b1+b2)/2\n",
    "or_boosted_a,or_boosted_b"
   ]
  },
  {
   "cell_type": "code",
   "execution_count": 120,
   "id": "1305df15",
   "metadata": {},
   "outputs": [
    {
     "data": {
      "image/png": "[encoded data removed]",
      "text/plain": [
       "<Figure size 720x360 with 1 Axes>"
      ]
     },
     "metadata": {
      "needs_background": "light"
     },
     "output_type": "display_data"
    }
   ],
   "source": [
    "plt.bar(result1[\"labels\"], (or_boosted_a,or_boosted_b))\n",
    "plt.yticks(list(np.arange(0, 1, 0.1)))\n",
    "plt.show()"
   ]
  },
  {
   "cell_type": "code",
   "execution_count": 132,
   "id": "927c2874",
   "metadata": {},
   "outputs": [
    {
     "data": {
      "text/plain": [
       "(1, 1, 1, 0)"
      ]
     },
     "execution_count": 132,
     "metadata": {},
     "output_type": "execute_result"
    }
   ],
   "source": [
    "# Expected results: OR Gate\n",
    "# (1,1) > 1 (1,0) > 1 (0,1) > 1 (0,0) > 0\n",
    "# The results show that we are not really able to form an OR gate, and hence, the \n",
    "\n",
    "or_boosted_ab_c1 = 1 if or_boosted_a>min(a1,a2) else 0\n",
    "\n",
    "or_boosted_ab_c2 = 1 if (or_boosted_a+or_boosted_b)/2 > min(a1,b2) else 0\n",
    "\n",
    "or_boosted_ab_c3 = 1 if (or_boosted_a+or_boosted_b)/2 > min(a2,b1)else 0\n",
    "\n",
    "or_boosted_ab_c4 = 1 if or_boosted_b < min(b1,b2) else 0\n",
    "\n",
    "or_boosted_ab_c1, or_boosted_ab_c2, or_boosted_ab_c3, or_boosted_ab_c4"
   ]
  },
  {
   "cell_type": "code",
   "execution_count": 107,
   "id": "49706e19",
   "metadata": {},
   "outputs": [
    {
     "data": {
      "text/plain": [
       "(1, 0, 0, 0)"
      ]
     },
     "execution_count": 107,
     "metadata": {},
     "output_type": "execute_result"
    }
   ],
   "source": [
    "# Expected results: AND Gate\n",
    "# (1,1) > 1 (1,0) > 0 (0,1) > 0 (0,0) > 0\n",
    "\n",
    "#Zero shot classifier:\n",
    "#a1 = Predict class 1 (should be closer to 1)\n",
    "#b1 = predict class 2\n",
    "\n",
    "# x1 1.     a1 close to 1 is our 1, b1 close to 0\n",
    "# x1 0.     a1 close to 0 is our 0, b1 close to 0\n",
    "\n",
    "and_boosted_ab_c1 = 1 if and_boosted_a*and_boosted_a > a1*a2 else 0\n",
    "\n",
    "and_boosted_ab_c2 = 1 if and_boosted_a*and_boosted_b > a1*b2 else 0\n",
    "\n",
    "and_boosted_ab_c3 = 1 if and_boosted_a*and_boosted_b > a2*b1 else 0\n",
    "\n",
    "and_boosted_ab_c4 = 1 if and_boosted_b*and_boosted_b > b1*b2 else 0\n",
    "\n",
    "and_boosted_ab_c1,and_boosted_ab_c2, and_boosted_ab_c3, and_boosted_ab_c4"
   ]
  },
  {
   "cell_type": "code",
   "execution_count": 136,
   "id": "c5d6616f",
   "metadata": {},
   "outputs": [
    {
     "data": {
      "text/plain": [
       "1"
      ]
     },
     "execution_count": 136,
     "metadata": {},
     "output_type": "execute_result"
    }
   ],
   "source": [
    "#NOT Gate\n",
    "# 1 > 0, 0>1\n",
    "\n",
    "input = and_boosted_ab_c1\n",
    "\n",
    "not_boosted_ab_c1 = 1 if input==0 else 1\n",
    "\n",
    "\n",
    "not_boosted_ab_c1\n"
   ]
  },
  {
   "cell_type": "code",
   "execution_count": 137,
   "id": "d9373591",
   "metadata": {},
   "outputs": [],
   "source": [
    "# How does it work with transformers\n",
    "# Task 1: Implement Universal Gates with Transformers\n",
    "# Task 2: Define the scenarios in the most logical way (AND, OR, NOT gates)\n",
    "# Task 3: Build good use cases (something in addition to boosting accuracies)\n",
    "# Task 3: Build a repository\n",
    "# Task 4: Multiple Visualisations and Paper writing.....\n",
    "# Find another use case except boosting classification accuracy of transformers."
   ]
  },
  {
   "cell_type": "code",
   "execution_count": null,
   "id": "f862cf20",
   "metadata": {},
   "outputs": [],
   "source": []
  }
 ],
 "metadata": {
  "kernelspec": {
   "display_name": "Python 3 (ipykernel)",
   "language": "python",
   "name": "python3"
  },
  "language_info": {
   "codemirror_mode": {
    "name": "ipython",
    "version": 3
   },
   "file_extension": ".py",
   "mimetype": "text/x-python",
   "name": "python",
   "nbconvert_exporter": "python",
   "pygments_lexer": "ipython3",
   "version": "3.9.12"
  }
 },
 "nbformat": 4,
 "nbformat_minor": 5
}
